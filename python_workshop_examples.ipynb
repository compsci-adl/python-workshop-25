{
 "cells": [
  {
   "cell_type": "markdown",
   "id": "59fc1901",
   "metadata": {},
   "source": [
    "# Python Workshop 2025 - Examples\n",
    "This workshop introduces the fundamentals of Python programming and demonstrates how it can be used across different domains."
   ]
  },
  {
   "cell_type": "markdown",
   "id": "7b1ef92f",
   "metadata": {},
   "source": [
    "## Basics"
   ]
  },
  {
   "cell_type": "markdown",
   "id": "ae5ac521-2eb6-4723-b586-8f43773ef1c0",
   "metadata": {},
   "source": [
    "### Printing"
   ]
  },
  {
   "cell_type": "code",
   "execution_count": null,
   "id": "832b6a0e",
   "metadata": {},
   "outputs": [],
   "source": [
    "# Print hello world\n",
    "print(\"Hello, World!\")\n",
    "\n",
    "# Variables\n",
    "name = \"Duck\"\n",
    "age = 3.14\n",
    "\n",
    "# Print variables\n",
    "print(\"My name is\", name)\n",
    "print(f\"My age is {round(age):d}\")"
   ]
  },
  {
   "cell_type": "markdown",
   "id": "6d472a92-964a-4fd0-99fd-eb4f0e1de62c",
   "metadata": {},
   "source": [
    "### Inputs"
   ]
  },
  {
   "cell_type": "code",
   "execution_count": null,
   "id": "618d619f-6899-4e8d-834f-dc645ca3ecd8",
   "metadata": {},
   "outputs": [],
   "source": [
    "# Read string\n",
    "name = input(\"Enter your name: \")\n",
    "print(\"Hello,\", name)\n",
    "\n",
    "# Read integer\n",
    "age = input(\"Enter your age: \")\n",
    "age = int(age)\n",
    "print(\"You are\", age, \"years old.\")\n",
    "\n",
    "# Read float\n",
    "height = input(\"Enter your height in meters: \")\n",
    "height = float(height)\n",
    "print(\"Your height is\", height, \"meters.\")\n",
    "\n",
    "# Print summary\n",
    "print(f\"{name} is {age} years old and {height} meters tall.\")"
   ]
  },
  {
   "cell_type": "markdown",
   "id": "2a072ce7-e46d-4047-b46a-f2f93f4c46e5",
   "metadata": {},
   "source": [
    "### Variables & Data Types"
   ]
  },
  {
   "cell_type": "code",
   "execution_count": null,
   "id": "f8a660a6-a9eb-4982-b111-70e348c539e7",
   "metadata": {},
   "outputs": [],
   "source": [
    "# Integer\n",
    "a: int = 21\n",
    "b: int = 22\n",
    "c: int = 23\n",
    "\n",
    "# Float\n",
    "height: float = 3.14\n",
    "\n",
    "# String\n",
    "name: str = \"John\"\n",
    "\n",
    "# Boolean\n",
    "is_student: bool = True\n",
    "\n",
    "# List\n",
    "food: list[str] = [\"shawarma\", \"pizza\", \"sushi\"]\n",
    "\n",
    "# Dictionary\n",
    "person: dict[str, int | str] = {\n",
    "    \"name\": \"John\",\n",
    "    \"age\": 21\n",
    "}\n",
    "\n",
    "# Print values\n",
    "print(a)\n",
    "print(b)\n",
    "print(c)\n",
    "print(height)\n",
    "print(name)\n",
    "print(is_student)\n",
    "print(food)\n",
    "print(person)"
   ]
  },
  {
   "cell_type": "markdown",
   "id": "90d19538-b9c8-44a5-854d-4debe218bcee",
   "metadata": {},
   "source": [
    "### Arithmetic and Operators"
   ]
  },
  {
   "cell_type": "code",
   "execution_count": null,
   "id": "5c4ca961-6921-4270-90a2-f3cf97cc0ed6",
   "metadata": {},
   "outputs": [],
   "source": [
    "# Define variables\n",
    "a = 10\n",
    "b = 3\n",
    "\n",
    "# Print results\n",
    "print(a + b)\n",
    "print(a - b)\n",
    "print(a * b)\n",
    "print(a / b)\n",
    "print(a // b)\n",
    "print(a % b)\n",
    "print(a ** b)"
   ]
  },
  {
   "cell_type": "markdown",
   "id": "7e504bca-75f0-425d-abf5-63e825494089",
   "metadata": {},
   "source": [
    "### Control Flow"
   ]
  },
  {
   "cell_type": "code",
   "execution_count": null,
   "id": "6b442f8e-eb82-4c3a-97fe-a7e81b91d098",
   "metadata": {},
   "outputs": [],
   "source": [
    "# If / Else statements\n",
    "x = 21\n",
    "if x > 0:\n",
    "    print(\"x is positive\")\n",
    "elif x == 0:\n",
    "    print(\"x is zero\")\n",
    "else:\n",
    "    print(\"x is negative\")\n",
    "\n",
    "# For loop\n",
    "food_items = [\"shawarma\", \"pizza\", \"sushi\"]\n",
    "for food in food_items:\n",
    "    print(food)\n",
    "else:\n",
    "    print(\"Finished iterating over food\")\n",
    "\n",
    "# While loop\n",
    "count = 0\n",
    "while count < 5:\n",
    "    count += 1\n",
    "    if count == 2:\n",
    "        continue  # Skip the rest of the loop when count is 2\n",
    "    if count == 4:\n",
    "        break     # Exit the loop when count is 4\n",
    "    print(\"Count:\", count)"
   ]
  },
  {
   "cell_type": "markdown",
   "id": "de8a19a6-6cf9-49da-844a-af455a3226bf",
   "metadata": {},
   "source": [
    "### Functions"
   ]
  },
  {
   "cell_type": "code",
   "execution_count": null,
   "id": "87e5e508-bc50-4a1b-afbd-0e8ee0300d4c",
   "metadata": {},
   "outputs": [],
   "source": [
    "def add(a, b):\n",
    "    return a + b\n",
    "print(add(3, 5))\n",
    "\n",
    "def multiply(a: int, b: int) -> int:\n",
    "    return a * b\n",
    "print(multiply(4, 6))\n",
    "\n",
    "def multiply(a: int, b: int) -> int:\n",
    "    return a * b\n",
    "print(multiply(4.12, 6.3))\n",
    "\n",
    "def multiply(a: int, b: int) -> int:\n",
    "    if not isinstance(a, int) or not isinstance(b, int):\n",
    "        raise TypeError(\"Both arguments must be integers\")\n",
    "    return a * b\n",
    "\n",
    "print(multiply(4.12, 6.3))"
   ]
  },
  {
   "cell_type": "markdown",
   "id": "4f5a7d54-b3c9-4349-839a-092d30e345bd",
   "metadata": {},
   "source": [
    "### Libraries"
   ]
  },
  {
   "cell_type": "code",
   "execution_count": null,
   "id": "a9e2c270-da31-4186-aba0-61da8081bb42",
   "metadata": {},
   "outputs": [],
   "source": [
    "# !pip install numpy"
   ]
  },
  {
   "cell_type": "code",
   "execution_count": null,
   "id": "172f5023",
   "metadata": {},
   "outputs": [],
   "source": [
    "# Import full module\n",
    "import math\n",
    "print(math.sqrt(4))\n",
    "\n",
    "# Import with alias\n",
    "import numpy as np\n",
    "arr = np.array([1, 2, 3])\n",
    "print(arr.mean())\n",
    "\n",
    "# Import specific function\n",
    "from random import randint\n",
    "print(randint(1, 10))\n"
   ]
  },
  {
   "cell_type": "markdown",
   "id": "4d146cbe-3178-40ae-9d8a-bd3dbedeeade",
   "metadata": {},
   "source": [
    "## AI & Data Science"
   ]
  },
  {
   "cell_type": "markdown",
   "id": "f7585e65-e4a7-4d39-b7ad-c9347c3965de",
   "metadata": {},
   "source": [
    "### NumPy"
   ]
  },
  {
   "cell_type": "code",
   "execution_count": null,
   "id": "a00c2c7f",
   "metadata": {},
   "outputs": [],
   "source": [
    "# !pip install numpy"
   ]
  },
  {
   "cell_type": "code",
   "execution_count": null,
   "id": "556d1261-b801-49db-b18c-29de0604c999",
   "metadata": {},
   "outputs": [],
   "source": [
    "import numpy as np\n",
    "\n",
    "# Create array\n",
    "arr = np.array([1, 2, 3, 4, 5])\n",
    "\n",
    "print(\"Array:\", arr)\n",
    "print(\"Mean:\", arr.mean())\n",
    "print(\"Squared:\", arr ** 2)\n",
    "\n",
    "# 2D Array (Matrix)\n",
    "matrix = np.array([[1, 2], [3, 4]])\n",
    "print(\"Matrix:\\n\", matrix)\n",
    "print(\"Transpose:\\n\", matrix.T)\n"
   ]
  },
  {
   "cell_type": "markdown",
   "id": "312ee128-b983-4bd2-9838-61d5ecc9bc1d",
   "metadata": {},
   "source": [
    "### Pandas"
   ]
  },
  {
   "cell_type": "code",
   "execution_count": null,
   "id": "fa36e80c-a543-4b6b-9568-519b88d02c66",
   "metadata": {},
   "outputs": [],
   "source": [
    "# !pip install pandas"
   ]
  },
  {
   "cell_type": "code",
   "execution_count": null,
   "id": "d6a7376b-e7fe-4974-9f04-0ecca61da3b0",
   "metadata": {},
   "outputs": [],
   "source": [
    "import pandas as pd\n",
    "\n",
    "# Create DataFrame\n",
    "data = {\n",
    "    \"Name\": [\"Monkey D. Luffy\", \"Yuji Itadori\", \"Sung Jin-Woo\"],\n",
    "    \"Age\": [19, 21, 24],\n",
    "    \"Score\": [75, 70,98]\n",
    "}\n",
    "df = pd.DataFrame(data)\n",
    "\n",
    "# Display DataFrame\n",
    "print(\"DataFrame:\\n\", df)\n",
    "print(\"\\nSummary:\\n\", df.describe())\n",
    "\n",
    "# Filter rows\n",
    "print(\"\\nAge > 21:\\n\", df[df[\"Age\"] > 21])\n",
    "\n",
    "# Save to CSV\n",
    "df.to_csv(\"scores.csv\", index=False)  # index=False avoids writing row numbers\n",
    "print(\"\\nDataFrame saved to 'scores.csv'\")\n",
    "\n",
    "# Read CSV\n",
    "df_new = pd.read_csv(\"scores.csv\")\n",
    "print(\"\\nDataFrame read from CSV:\\n\", df_new)\n",
    "\n",
    "# Print info about DataFrame\n",
    "print(\"\\nDataFrame Info:\")\n",
    "df_new.info()\n"
   ]
  },
  {
   "cell_type": "markdown",
   "id": "43166154-6c87-4b7a-bb76-c50ed4a89344",
   "metadata": {},
   "source": [
    "### Matplotlib"
   ]
  },
  {
   "cell_type": "code",
   "execution_count": null,
   "id": "2f2630a6-59ee-4d8a-bc8f-23d5c3b3b4fe",
   "metadata": {},
   "outputs": [],
   "source": [
    "# !pip install matplotlib"
   ]
  },
  {
   "cell_type": "code",
   "execution_count": null,
   "id": "1ff89002-fdd6-4275-ade3-37606c77c3cf",
   "metadata": {},
   "outputs": [],
   "source": [
    "import matplotlib.pyplot as plt\n",
    "\n",
    "# Data\n",
    "x = [1, 2, 3, 4, 5]\n",
    "y = [i**2 for i in x]\n",
    "\n",
    "# Plot\n",
    "plt.plot(x, y, marker=\"o\", color=\"blue\", linestyle=\"--\")\n",
    "plt.title(\"Square Numbers\")\n",
    "plt.xlabel(\"x values\")\n",
    "plt.ylabel(\"y = x^2\")\n",
    "plt.grid(True)\n",
    "plt.show()\n"
   ]
  },
  {
   "cell_type": "markdown",
   "id": "8873ad06-00db-40b9-89f3-b365e3996c3b",
   "metadata": {},
   "source": [
    "## Cybersecurity"
   ]
  },
  {
   "cell_type": "markdown",
   "id": "3cd5afcf-b1ab-48f8-bd27-ff4d44124557",
   "metadata": {},
   "source": [
    "### Hashlib"
   ]
  },
  {
   "cell_type": "code",
   "execution_count": null,
   "id": "0b632213-40b7-48f0-b6e0-b27e2fb048e2",
   "metadata": {},
   "outputs": [],
   "source": [
    "import hashlib\n",
    "\n",
    "# Hash a password using SHA-256\n",
    "password = \"password\".encode()\n",
    "hashed = hashlib.sha256(password).hexdigest()\n",
    "\n",
    "# Print hashed password\n",
    "print(\"SHA-256 hash for password123:\", hashed)\n",
    "\n",
    "# Simulated stored hashed passwords\n",
    "stored_users = {\n",
    "    \"alice\": hashlib.sha256(\"alice123\".encode()).hexdigest(),\n",
    "    \"bob\": hashlib.sha256(\"password\".encode()).hexdigest()\n",
    "}\n",
    "\n",
    "# Verify login\n",
    "def verify_login(username, password):\n",
    "    if username not in stored_users:\n",
    "        return False\n",
    "    hashed_input = hashlib.sha256(password.encode()).hexdigest()\n",
    "    return hashed_input == stored_users[username]\n",
    "\n",
    "# Compare hashes\n",
    "print(verify_login(\"alice\", \"alice123\"))\n",
    "print(verify_login(\"bob\", \"wrongpass\"))\n"
   ]
  },
  {
   "cell_type": "markdown",
   "id": "7daaba08-7aa7-41f7-9854-81fef4b523c7",
   "metadata": {},
   "source": [
    "### Cryptography"
   ]
  },
  {
   "cell_type": "code",
   "execution_count": null,
   "id": "f43a55d7-04c1-449d-be55-4a76d3c20733",
   "metadata": {},
   "outputs": [],
   "source": [
    "# !pip install cryptography"
   ]
  },
  {
   "cell_type": "code",
   "execution_count": null,
   "id": "070a6bba-3da3-4372-86e4-f6d8a0bad3f9",
   "metadata": {},
   "outputs": [],
   "source": [
    "from cryptography.fernet import Fernet\n",
    "\n",
    "# Generate key using Fernet (symmetric encryption)\n",
    "key = Fernet.generate_key()\n",
    "f = Fernet(key)\n",
    "\n",
    "# Encrypt / Decrypt message\n",
    "message = b\"Secret message\"\n",
    "token = f.encrypt(message)\n",
    "print(\"Encrypted:\", token)\n",
    "\n",
    "decrypted = f.decrypt(token)\n",
    "print(\"Decrypted:\", decrypted)\n"
   ]
  },
  {
   "cell_type": "markdown",
   "id": "4f22ae4b-35aa-4593-a6f8-63ec5d794013",
   "metadata": {},
   "source": [
    "### Requests"
   ]
  },
  {
   "cell_type": "code",
   "execution_count": null,
   "id": "0a565bc8-07f6-42f8-8ea8-9348da9581fb",
   "metadata": {},
   "outputs": [],
   "source": [
    "import requests\n",
    "\n",
    "# GET request\n",
    "response = requests.get(\"https://httpbin.org/get\")\n",
    "data = response.json()\n",
    "\n",
    "# Remove 'origin' field that contains IP address\n",
    "data.pop(\"origin\", None)\n",
    "\n",
    "print(\"Status code:\", response.status_code)\n",
    "print(\"Response JSON:\", data)\n",
    "\n",
    "# POST request\n",
    "data_post = {\"username\": \"user1\", \"password\": \"password123\"}\n",
    "response_post = requests.post(\"https://httpbin.org/post\", data=data_post)\n",
    "data_post_response = response_post.json()\n",
    "\n",
    "# Remove 'origin' field\n",
    "data_post_response.pop(\"origin\", None)\n",
    "\n",
    "print(\"POST Response:\", data_post_response)\n"
   ]
  },
  {
   "cell_type": "markdown",
   "id": "3134507e-dffe-4b8c-bf8a-c5dc3e25d52f",
   "metadata": {},
   "source": [
    "#### Scapy\n",
    "Need to run `sudo jupyter notebook --allow-root` to allow Scapy to work properly"
   ]
  },
  {
   "cell_type": "code",
   "execution_count": null,
   "id": "9585dc81-858f-48f5-9476-b0c94076d11e",
   "metadata": {},
   "outputs": [],
   "source": [
    "# !pip install scapy"
   ]
  },
  {
   "cell_type": "code",
   "execution_count": null,
   "id": "158cc805-ada3-446a-87a7-91c9a9ae4e3f",
   "metadata": {},
   "outputs": [],
   "source": [
    "from scapy.all import IP, ICMP, sr1\n",
    "\n",
    "# Ping 1.1.1.1\n",
    "packet = IP(dst=\"1.1.1.1\")/ICMP()\n",
    "reply = sr1(packet, timeout=2)\n",
    "\n",
    "# Print result\n",
    "if reply:\n",
    "    print(\"Reply received from 1.1.1.1\")\n",
    "else:\n",
    "    print(\"No response\")\n"
   ]
  }
 ],
 "metadata": {
  "kernelspec": {
   "display_name": "Python 3 (ipykernel)",
   "language": "python",
   "name": "python3"
  },
  "language_info": {
   "codemirror_mode": {
    "name": "ipython",
    "version": 3
   },
   "file_extension": ".py",
   "mimetype": "text/x-python",
   "name": "python",
   "nbconvert_exporter": "python",
   "pygments_lexer": "ipython3",
   "version": "3.13.7"
  }
 },
 "nbformat": 4,
 "nbformat_minor": 5
}
