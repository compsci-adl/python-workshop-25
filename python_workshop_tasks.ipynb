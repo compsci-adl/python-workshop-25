{
 "cells": [
  {
   "cell_type": "markdown",
   "id": "f411ec17",
   "metadata": {},
   "source": [
    "# Python Workshop 2025 - Tasks\n",
    "Python exercises designed to improve your understanding and practical skills in Python programming."
   ]
  },
  {
   "cell_type": "markdown",
   "id": "d0c25726",
   "metadata": {},
   "source": [
    "## Task 1 - Basics\n",
    "Print a greeting using your name and age, but **calculate age in months** and include it in the output."
   ]
  },
  {
   "cell_type": "code",
   "execution_count": null,
   "id": "230aac0c",
   "metadata": {},
   "outputs": [],
   "source": [
    "# Enter your code here\n"
   ]
  },
  {
   "cell_type": "markdown",
   "id": "d84733c5-b2ce-4324-b025-77dc3c6c75b5",
   "metadata": {},
   "source": [
    "## Task 2 - Basics\n",
    "Ask the user for their height in meters and weight in kg, then **calculate BMI** and print it rounded to 2 decimals."
   ]
  },
  {
   "cell_type": "code",
   "execution_count": null,
   "id": "7c07b631-279e-458e-8df5-0b74bd713fbd",
   "metadata": {},
   "outputs": [],
   "source": [
    "# Enter your code here\n"
   ]
  },
  {
   "cell_type": "markdown",
   "id": "e30cad33-46ee-4155-9139-699837eebf9e",
   "metadata": {},
   "source": [
    "## Task 3 - Variables & Data Types\n",
    "Create a dictionary for a student with keys: `\"name\"`, `\"age\"`, `\"grades\"` (list of numbers). Print the **average grade**."
   ]
  },
  {
   "cell_type": "code",
   "execution_count": null,
   "id": "8bad2509-7bd7-4a1f-aca7-bc9625cc0a25",
   "metadata": {},
   "outputs": [],
   "source": [
    "# Enter your code here\n"
   ]
  },
  {
   "cell_type": "markdown",
   "id": "ea275ec1-70e2-437b-92ab-e658d58189ee",
   "metadata": {},
   "source": [
    "## Task 4 - Arithmetic & Operators\n",
    "Ask the user for two numbers and **compute all operations** (`+`, `-`, `*`, `/`, `//`, `%`, `**`) and print in a formatted table."
   ]
  },
  {
   "cell_type": "code",
   "execution_count": null,
   "id": "5f9549b6-25ed-4017-be80-ce5a979a2fe5",
   "metadata": {},
   "outputs": [],
   "source": [
    "# Enter your code here\n"
   ]
  },
  {
   "cell_type": "markdown",
   "id": "92443079-747b-4888-a9c8-14b60164b2a3",
   "metadata": {},
   "source": [
    "## Task 5 - Control Flow \n",
    "Loop through a list of integers `[5, 12, 7, 0, -3]` and:\n",
    "- Skip negative numbers\n",
    "- Print whether each number is **even or odd**\n",
    "- Stop if number > 10"
   ]
  },
  {
   "cell_type": "code",
   "execution_count": null,
   "id": "c72e081b-b97d-40eb-a5ff-438f7338456a",
   "metadata": {},
   "outputs": [],
   "source": [
    "# Enter your code here\n"
   ]
  },
  {
   "cell_type": "markdown",
   "id": "ca22e993-ba44-4a00-86a7-e8c3bffc4dd1",
   "metadata": {},
   "source": [
    "## Task 6 - Functions\n",
    "Write a function `factorial(n: int) -> int` that computes factorial recursively. Test it with a user input."
   ]
  },
  {
   "cell_type": "code",
   "execution_count": null,
   "id": "eb9824a2-7438-4b8e-9cfd-8dc7ce4b6ddb",
   "metadata": {},
   "outputs": [],
   "source": [
    "# Enter your code here\n"
   ]
  },
  {
   "cell_type": "markdown",
   "id": "24ccc4e7-e004-4895-ad86-a6046879ab48",
   "metadata": {},
   "source": [
    "## Task 7 - Numpy\n",
    "Use `numpy` to:\n",
    "- Create a 3x3 matrix\n",
    "- Compute row sums and column sums"
   ]
  },
  {
   "cell_type": "code",
   "execution_count": null,
   "id": "5e4ce00c-f679-4604-b9fc-13de0c2b6cea",
   "metadata": {},
   "outputs": [],
   "source": [
    "# Enter your code here\n"
   ]
  },
  {
   "cell_type": "markdown",
   "id": "68d8d97b-2a19-482b-b405-a93924b252cd",
   "metadata": {},
   "source": [
    "## Task 8 - Pandas\n",
    "Use `pandas` to create a DataFrame for 3 people with **Name, Age, and Power Level**, then:\n",
    "- Filter characters with Power Level > 80\n",
    "- Save to CSV"
   ]
  },
  {
   "cell_type": "code",
   "execution_count": null,
   "id": "da7977d9-01ee-4fd0-9b50-b2629e78cbae",
   "metadata": {},
   "outputs": [],
   "source": [
    "# Enter your code here\n"
   ]
  },
  {
   "cell_type": "markdown",
   "id": "a0813546-d447-4c6f-8bbd-2829422bd026",
   "metadata": {},
   "source": [
    "## Task 9 - Matplotlib\n",
    "Use `matplotlib` to plot y = x³ for x = 1 to 10. Use **red dashed line** and **circle markers**."
   ]
  },
  {
   "cell_type": "code",
   "execution_count": null,
   "id": "48860768-53a8-4cc3-b32e-71eaa39b1982",
   "metadata": {},
   "outputs": [],
   "source": [
    "# Enter your code here\n"
   ]
  },
  {
   "cell_type": "markdown",
   "id": "2a8c5873-4fa5-4a33-afa4-2b7556dd4aaa",
   "metadata": {},
   "source": [
    "## Task 10 - Hashlib\n",
    "Use `Hashlib` to hash a user input password using **SHA-512**, then compare with a stored hash to verify login."
   ]
  },
  {
   "cell_type": "code",
   "execution_count": null,
   "id": "177726b3-f1ef-45a5-aebc-074d579f7d2e",
   "metadata": {},
   "outputs": [],
   "source": [
    "# Enter your code here\n"
   ]
  },
  {
   "cell_type": "markdown",
   "id": "b023a9fa-d42d-4956-9a6e-13764cb6324b",
   "metadata": {},
   "source": [
    "## Task 11 - Cryptography\n",
    "Use `cryptography` with **AES-GCM** to encrypt a string `\"Top Secret\"` and decrypt it back."
   ]
  },
  {
   "cell_type": "code",
   "execution_count": null,
   "id": "5ef4beb2-93a3-4fcf-beb4-7e8e8f1109e7",
   "metadata": {},
   "outputs": [],
   "source": [
    "# Enter your code here\n"
   ]
  },
  {
   "cell_type": "markdown",
   "id": "bca5de41-0a60-43e9-a81a-06a2e55bff57",
   "metadata": {},
   "source": [
    "## Task 12 - Requests\n",
    "Use `requests` to fetch JSON from a public API and process it.\n",
    "- Use the API endpoint: https://jsonplaceholder.typicode.com/users\n",
    "- Fetch the JSON data with a GET request.\n",
    "- Loop through the users and print the names and emails of users whose address is in the city \"South Christy\".\n",
    "- Do not print any unnecessary fields (like geo or zipcode).\n",
    "\n",
    "Example Output:\n",
    "```\n",
    "Name: First Name\n",
    "Email: first_name@email.domain\n",
    "```"
   ]
  },
  {
   "cell_type": "code",
   "execution_count": null,
   "id": "c42188dc-e196-449c-8dc7-4668b9c11418",
   "metadata": {},
   "outputs": [],
   "source": [
    "# Enter your code here\n"
   ]
  }
 ],
 "metadata": {
  "kernelspec": {
   "display_name": "Python 3 (ipykernel)",
   "language": "python",
   "name": "python3"
  },
  "language_info": {
   "codemirror_mode": {
    "name": "ipython",
    "version": 3
   },
   "file_extension": ".py",
   "mimetype": "text/x-python",
   "name": "python",
   "nbconvert_exporter": "python",
   "pygments_lexer": "ipython3",
   "version": "3.13.5"
  }
 },
 "nbformat": 4,
 "nbformat_minor": 5
}
